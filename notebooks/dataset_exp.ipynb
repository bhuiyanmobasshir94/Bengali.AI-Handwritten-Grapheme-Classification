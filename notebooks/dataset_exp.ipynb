{
 "metadata": {
  "language_info": {
   "codemirror_mode": {
    "name": "ipython",
    "version": 3
   },
   "file_extension": ".py",
   "mimetype": "text/x-python",
   "name": "python",
   "nbconvert_exporter": "python",
   "pygments_lexer": "ipython3",
   "version": 3
  },
  "orig_nbformat": 4
 },
 "nbformat": 4,
 "nbformat_minor": 2,
 "cells": [
  {
   "cell_type": "code",
   "execution_count": null,
   "metadata": {},
   "outputs": [],
   "source": [
    "import sys\n",
    "sys.path.append(\"../src/\")\n",
    "import matplotlib.pyplot as plt\n",
    "import torch\n",
    "import numpy as np\n",
    "from dataset import BengaliDatasetTrain\n",
    "from PIL import Image"
   ]
  },
  {
   "cell_type": "code",
   "execution_count": null,
   "metadata": {},
   "outputs": [],
   "source": [
    "dataset = BengaliDatasetTrain(folds=[0,1], img_height=137, img_width=236, mean=[0.485, 0.456, 0.406], std=[0.229, 0.224, 0.225])\n",
    "print(len(dataset))"
   ]
  },
  {
   "cell_type": "code",
   "execution_count": null,
   "metadata": {},
   "outputs": [],
   "source": [
    "idx = 0\n",
    "image = dataset[idx][\"image\"]\n",
    "print(dataset[idx][\"grapheme_root\"])\n",
    "print(dataset[idx][\"vowel_diacritic\"])\n",
    "print(dataset[idx][\"consonant_diacritic\"])\n",
    "npimage = image.numpy()\n",
    "to_save = np.transpose(npimage, (1,2,0))\n",
    "plt.imshow(to_save)"
   ]
  }
 ]
}
